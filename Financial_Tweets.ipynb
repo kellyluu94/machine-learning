{
  "nbformat": 4,
  "nbformat_minor": 0,
  "metadata": {
    "colab": {
      "provenance": [],
      "authorship_tag": "ABX9TyPSYRNGKGzohorqRFlrYN1r",
      "include_colab_link": true
    },
    "kernelspec": {
      "name": "python3",
      "display_name": "Python 3"
    },
    "language_info": {
      "name": "python"
    }
  },
  "cells": [
    {
      "cell_type": "markdown",
      "metadata": {
        "id": "view-in-github",
        "colab_type": "text"
      },
      "source": [
        "<a href=\"https://colab.research.google.com/github/kellyluu94/machine-learning/blob/main/Financial_Tweets.ipynb\" target=\"_parent\"><img src=\"https://colab.research.google.com/assets/colab-badge.svg\" alt=\"Open In Colab\"/></a>"
      ]
    },
    {
      "cell_type": "markdown",
      "source": [
        "#Sentiment analysis on Financial tweets\n",
        "\n",
        "- Dataset: https://www.kaggle.com/datasets/davidwallach/financial-tweets\n",
        "- Tutorials:\n",
        " - https://www.kaggle.com/code/bcante/finanacial-tweets-analysis/notebook\n",
        " - https://towardsdatascience.com/7-nlp-techniques-you-can-easily-implement-with-python-dc0ade1a53c2"
      ],
      "metadata": {
        "id": "H5JbAJPbALYy"
      }
    },
    {
      "cell_type": "code",
      "execution_count": 21,
      "metadata": {
        "id": "gZjXMydHPhpd"
      },
      "outputs": [],
      "source": [
        "import os\n",
        "import random\n",
        "\n",
        "import nltk\n",
        "import pandas as pd\n"
      ]
    },
    {
      "cell_type": "markdown",
      "source": [
        "## Load and transform data"
      ],
      "metadata": {
        "id": "eiMkIttd6ymg"
      }
    },
    {
      "cell_type": "code",
      "source": [
        "# Before run this code, make sure to upload the data from local machine to Colab\n",
        "def transform_stocker_bot_data():\n",
        "  stocker_bot['timestamp'] = pd.to_datetime(stocker_bot['timestamp'])\n",
        "  stocker_bot['company_names'] = stocker_bot['company_names'].astype('category')\n",
        "  stocker_bot['source'] = stocker_bot['source'].astype('category')\n",
        "  stocker_bot['symbols'] = stocker_bot['symbols'].astype('category')\n",
        "\n",
        "stocks = pd.read_csv(\"stocks_cleaned.csv\")\n",
        "stocker_bot = pd.read_csv(\"stockerbot-export.csv\", on_bad_lines='skip')\n",
        "transform_stocker_bot_data()\n",
        "print(stocks.head(10), stocker_bot.head(10))"
      ],
      "metadata": {
        "colab": {
          "base_uri": "https://localhost:8080/"
        },
        "id": "YO39Q1B5cGeu",
        "outputId": "8e53891a-3cef-45b1-e4cc-9ea3660b6dae"
      },
      "execution_count": 8,
      "outputs": [
        {
          "output_type": "stream",
          "name": "stdout",
          "text": [
            "  ticker         name\n",
            "0   NVAX      Novavax\n",
            "1   SIRI    Sirius XM\n",
            "2    QQQ  Invesco QQQ\n",
            "3   AAPL        Apple\n",
            "4   MSFT    Microsoft\n",
            "5     FB     Facebook\n",
            "6     MU       Micron\n",
            "7   NVDA       NVIDIA\n",
            "8   INTC        Intel\n",
            "9    CSX          CSX                     id                                               text  \\\n",
            "0  1019696670777503700  VIDEO: “I was in my office. I was minding my o...   \n",
            "1  1019709091038548000  The price of lumber $LB_F is down 22% since hi...   \n",
            "2  1019711413798035500  Who says the American Dream is dead? https://t...   \n",
            "3  1019716662587740200  Barry Silbert is extremely optimistic on bitco...   \n",
            "4  1019718460287389700  How satellites avoid attacks and space junk wh...   \n",
            "5  1019719465095790600  .@RealMoney's David Butler's favorite FANG sto...   \n",
            "6  1019720209786114000  Don’t miss my convo with one of my favorite th...   \n",
            "7  1019720659738480600  U.S. intelligence documents on Nelson Mandela ...   \n",
            "8  1019720723441635300  Senate wants emergency alerts to go out throug...   \n",
            "9  1019721145396887600  Hedge fund manager Marc Larsy says bitcoin $40...   \n",
            "\n",
            "                  timestamp        source        symbols  \\\n",
            "0 2018-07-18 21:33:26+00:00  GoldmanSachs             GS   \n",
            "1 2018-07-18 22:22:47+00:00    StockTwits              M   \n",
            "2 2018-07-18 22:32:01+00:00     TheStreet            AIG   \n",
            "3 2018-07-18 22:52:52+00:00   MarketWatch            BTC   \n",
            "4 2018-07-18 23:00:01+00:00        Forbes           ORCL   \n",
            "5 2018-07-18 23:04:00+00:00     jimcramer  FB-GOOGL-GOOG   \n",
            "6 2018-07-18 23:06:58+00:00    ianbremmer            HRS   \n",
            "7 2018-07-18 23:08:45+00:00       Reuters       INTC-USB   \n",
            "8 2018-07-18 23:09:00+00:00    TechCrunch           NFLX   \n",
            "9 2018-07-18 23:10:41+00:00   MarketWatch            BTC   \n",
            "\n",
            "                company_names  \\\n",
            "0           The Goldman Sachs   \n",
            "1                      Macy's   \n",
            "2                    American   \n",
            "3                     Bitcoin   \n",
            "4                      Oracle   \n",
            "5  Facebook*Alphabet*Alphabet   \n",
            "6                      Harris   \n",
            "7                  Intel*U.S.   \n",
            "8                     Netflix   \n",
            "9                     Bitcoin   \n",
            "\n",
            "                                                 url  verified  \n",
            "0  https://twitter.com/i/web/status/1019696670777...      True  \n",
            "1  https://twitter.com/i/web/status/1019709091038...      True  \n",
            "2                            https://buff.ly/2L3kmc4      True  \n",
            "3  https://twitter.com/i/web/status/1019716662587...      True  \n",
            "4                     http://on.forbes.com/6013DqDDU      True  \n",
            "5                              http://bit.ly/2NrYxje      True  \n",
            "6  https://twitter.com/samharrisorg/status/101971...      True  \n",
            "7                            https://reut.rs/2O0ypNf      True  \n",
            "8                            https://tcrn.ch/2L8DsgT      True  \n",
            "9                        https://on.mktw.net/2Ntr7k9      True  \n"
          ]
        }
      ]
    },
    {
      "cell_type": "markdown",
      "source": [
        "## Exploratory analysis"
      ],
      "metadata": {
        "id": "Mw9q1zR57Y5h"
      }
    },
    {
      "cell_type": "code",
      "source": [
        "print('Total number of rows: %s' % len(stocker_bot))\n",
        "stocker_bot['timestamp'].dt.date.value_counts().sort_index()"
      ],
      "metadata": {
        "colab": {
          "base_uri": "https://localhost:8080/"
        },
        "id": "1kdlfqPVdfks",
        "outputId": "e28f035a-f55e-4df7-ea38-703c52f5908e"
      },
      "execution_count": 20,
      "outputs": [
        {
          "output_type": "stream",
          "name": "stdout",
          "text": [
            "Total number of rows: 28264\n"
          ]
        },
        {
          "output_type": "execute_result",
          "data": {
            "text/plain": [
              "2018-02-23        1\n",
              "2018-07-08       20\n",
              "2018-07-09      657\n",
              "2018-07-10      920\n",
              "2018-07-11     1010\n",
              "2018-07-12     1562\n",
              "2018-07-13     1456\n",
              "2018-07-14     1071\n",
              "2018-07-15     2084\n",
              "2018-07-16     3085\n",
              "2018-07-17     5076\n",
              "2018-07-18    11314\n",
              "2018-07-19        8\n",
              "Name: timestamp, dtype: int64"
            ]
          },
          "metadata": {},
          "execution_count": 20
        }
      ]
    },
    {
      "cell_type": "code",
      "source": [
        "stocker_bot['source'].value_counts().head(50).plot.bar()"
      ],
      "metadata": {
        "colab": {
          "base_uri": "https://localhost:8080/",
          "height": 363
        },
        "id": "tvxdj26beM7J",
        "outputId": "57a5941a-5b78-4cf5-fad0-187df53178c5"
      },
      "execution_count": 4,
      "outputs": [
        {
          "output_type": "execute_result",
          "data": {
            "text/plain": [
              "<matplotlib.axes._subplots.AxesSubplot at 0x7fd71e47acd0>"
            ]
          },
          "metadata": {},
          "execution_count": 4
        },
        {
          "output_type": "display_data",
          "data": {
            "text/plain": [
              "<Figure size 432x288 with 1 Axes>"
            ],
            "image/png": "[encoded data removed]"
          },
          "metadata": {
            "needs_background": "light"
          }
        }
      ]
    },
    {
      "cell_type": "code",
      "source": [
        "stocker_bot['company_names'].value_counts().head(50).plot.bar()"
      ],
      "metadata": {
        "colab": {
          "base_uri": "https://localhost:8080/",
          "height": 454
        },
        "id": "qBpsONoDeyUE",
        "outputId": "bc9fea65-748f-4901-a534-838ded772513"
      },
      "execution_count": 5,
      "outputs": [
        {
          "output_type": "execute_result",
          "data": {
            "text/plain": [
              "<matplotlib.axes._subplots.AxesSubplot at 0x7fd71dc31f50>"
            ]
          },
          "metadata": {},
          "execution_count": 5
        },
        {
          "output_type": "display_data",
          "data": {
            "text/plain": [
              "<Figure size 432x288 with 1 Axes>"
            ],
            "image/png": "[encoded data removed]"
          },
          "metadata": {
            "needs_background": "light"
          }
        }
      ]
    },
    {
      "cell_type": "markdown",
      "source": [
        "## Sentiment analysis"
      ],
      "metadata": {
        "id": "LVBeH8t67g42"
      }
    },
    {
      "cell_type": "code",
      "source": [
        "nltk.download('stopwords')\n",
        "from nltk.corpus import stopwords\n",
        "\n",
        "stop = stopwords.words('english')"
      ],
      "metadata": {
        "colab": {
          "base_uri": "https://localhost:8080/"
        },
        "id": "_E23M5uhf2Vm",
        "outputId": "0146d876-9fff-4bbf-d807-c67440acdb20"
      },
      "execution_count": 10,
      "outputs": [
        {
          "output_type": "stream",
          "name": "stderr",
          "text": [
            "[nltk_data] Downloading package stopwords to /root/nltk_data...\n",
            "[nltk_data]   Package stopwords is already up-to-date!\n"
          ]
        }
      ]
    },
    {
      "cell_type": "code",
      "source": [
        "nltk.download('vader_lexicon')\n",
        "from nltk.sentiment.vader import SentimentIntensityAnalyzer\n",
        "\n",
        "sid = SentimentIntensityAnalyzer()\n",
        "stocker_bot[['neg', 'neu', 'pos', 'compound']] = stocker_bot['text'].apply(sid.polarity_scores).apply(pd.Series)"
      ],
      "metadata": {
        "colab": {
          "base_uri": "https://localhost:8080/"
        },
        "id": "j8EpqE6ngfLK",
        "outputId": "c04e21fc-1bcd-407f-86a8-b5aad265b8b1"
      },
      "execution_count": 11,
      "outputs": [
        {
          "output_type": "stream",
          "name": "stderr",
          "text": [
            "[nltk_data] Downloading package vader_lexicon to /root/nltk_data...\n",
            "[nltk_data]   Package vader_lexicon is already up-to-date!\n"
          ]
        }
      ]
    },
    {
      "cell_type": "code",
      "source": [
        "stocker_bot[['text', 'neg', 'neu', 'pos', 'compound']].sort_values('pos', ascending=False)"
      ],
      "metadata": {
        "id": "JMTW4fiZ544n",
        "outputId": "e3184fdc-a6ee-4099-bde7-d2bd5d3fe6db",
        "colab": {
          "base_uri": "https://localhost:8080/",
          "height": 424
        }
      },
      "execution_count": 17,
      "outputs": [
        {
          "output_type": "execute_result",
          "data": {
            "text/plain": [
              "                                                    text    neg    neu    pos  \\\n",
              "14462                                          $TVIX wow  0.000  0.208  0.792   \n",
              "20743                                          $aaoi wow  0.000  0.208  0.792   \n",
              "22539                                       $ADBE strong  0.000  0.233  0.767   \n",
              "21231                                          $FDX nice  0.000  0.263  0.737   \n",
              "20844                                       $TVIX wo wow  0.000  0.345  0.655   \n",
              "...                                                  ...    ...    ...    ...   \n",
              "10995  RT @Briefingcom: Upcoming #earnings reports ht...  0.000  1.000  0.000   \n",
              "10994  Big bullish unusual option activity detected: ...  0.000  1.000  0.000   \n",
              "10993  Illumina Inc $ILMN: Institutional Investor Sen...  0.000  1.000  0.000   \n",
              "10991  why did $srcl fall out of bed the last few hou...  0.000  1.000  0.000   \n",
              "28263  Stellar $XLM price: $0.297852 Binance registra...  0.144  0.856  0.000   \n",
              "\n",
              "       compound  \n",
              "14462    0.5859  \n",
              "20743    0.5859  \n",
              "22539    0.5106  \n",
              "21231    0.4215  \n",
              "20844    0.5859  \n",
              "...         ...  \n",
              "10995    0.0000  \n",
              "10994    0.0000  \n",
              "10993    0.0000  \n",
              "10991    0.0000  \n",
              "28263   -0.2942  \n",
              "\n",
              "[28264 rows x 5 columns]"
            ],
            "text/html": [
              "\n",
              "  <div id=\"df-5577fb69-82bd-4cb1-b8c1-74f4f39298b1\">\n",
              "    <div class=\"colab-df-container\">\n",
              "      <div>\n",
              "<style scoped>\n",
              "    .dataframe tbody tr th:only-of-type {\n",
              "        vertical-align: middle;\n",
              "    }\n",
              "\n",
              "    .dataframe tbody tr th {\n",
              "        vertical-align: top;\n",
              "    }\n",
              "\n",
              "    .dataframe thead th {\n",
              "        text-align: right;\n",
              "    }\n",
              "</style>\n",
              "<table border=\"1\" class=\"dataframe\">\n",
              "  <thead>\n",
              "    <tr style=\"text-align: right;\">\n",
              "      <th></th>\n",
              "      <th>text</th>\n",
              "      <th>neg</th>\n",
              "      <th>neu</th>\n",
              "      <th>pos</th>\n",
              "      <th>compound</th>\n",
              "    </tr>\n",
              "  </thead>\n",
              "  <tbody>\n",
              "    <tr>\n",
              "      <th>14462</th>\n",
              "      <td>$TVIX wow</td>\n",
              "      <td>0.000</td>\n",
              "      <td>0.208</td>\n",
              "      <td>0.792</td>\n",
              "      <td>0.5859</td>\n",
              "    </tr>\n",
              "    <tr>\n",
              "      <th>20743</th>\n",
              "      <td>$aaoi wow</td>\n",
              "      <td>0.000</td>\n",
              "      <td>0.208</td>\n",
              "      <td>0.792</td>\n",
              "      <td>0.5859</td>\n",
              "    </tr>\n",
              "    <tr>\n",
              "      <th>22539</th>\n",
              "      <td>$ADBE strong</td>\n",
              "      <td>0.000</td>\n",
              "      <td>0.233</td>\n",
              "      <td>0.767</td>\n",
              "      <td>0.5106</td>\n",
              "    </tr>\n",
              "    <tr>\n",
              "      <th>21231</th>\n",
              "      <td>$FDX nice</td>\n",
              "      <td>0.000</td>\n",
              "      <td>0.263</td>\n",
              "      <td>0.737</td>\n",
              "      <td>0.4215</td>\n",
              "    </tr>\n",
              "    <tr>\n",
              "      <th>20844</th>\n",
              "      <td>$TVIX wo wow</td>\n",
              "      <td>0.000</td>\n",
              "      <td>0.345</td>\n",
              "      <td>0.655</td>\n",
              "      <td>0.5859</td>\n",
              "    </tr>\n",
              "    <tr>\n",
              "      <th>...</th>\n",
              "      <td>...</td>\n",
              "      <td>...</td>\n",
              "      <td>...</td>\n",
              "      <td>...</td>\n",
              "      <td>...</td>\n",
              "    </tr>\n",
              "    <tr>\n",
              "      <th>10995</th>\n",
              "      <td>RT @Briefingcom: Upcoming #earnings reports ht...</td>\n",
              "      <td>0.000</td>\n",
              "      <td>1.000</td>\n",
              "      <td>0.000</td>\n",
              "      <td>0.0000</td>\n",
              "    </tr>\n",
              "    <tr>\n",
              "      <th>10994</th>\n",
              "      <td>Big bullish unusual option activity detected: ...</td>\n",
              "      <td>0.000</td>\n",
              "      <td>1.000</td>\n",
              "      <td>0.000</td>\n",
              "      <td>0.0000</td>\n",
              "    </tr>\n",
              "    <tr>\n",
              "      <th>10993</th>\n",
              "      <td>Illumina Inc $ILMN: Institutional Investor Sen...</td>\n",
              "      <td>0.000</td>\n",
              "      <td>1.000</td>\n",
              "      <td>0.000</td>\n",
              "      <td>0.0000</td>\n",
              "    </tr>\n",
              "    <tr>\n",
              "      <th>10991</th>\n",
              "      <td>why did $srcl fall out of bed the last few hou...</td>\n",
              "      <td>0.000</td>\n",
              "      <td>1.000</td>\n",
              "      <td>0.000</td>\n",
              "      <td>0.0000</td>\n",
              "    </tr>\n",
              "    <tr>\n",
              "      <th>28263</th>\n",
              "      <td>Stellar $XLM price: $0.297852 Binance registra...</td>\n",
              "      <td>0.144</td>\n",
              "      <td>0.856</td>\n",
              "      <td>0.000</td>\n",
              "      <td>-0.2942</td>\n",
              "    </tr>\n",
              "  </tbody>\n",
              "</table>\n",
              "<p>28264 rows × 5 columns</p>\n",
              "</div>\n",
              "      <button class=\"colab-df-convert\" onclick=\"convertToInteractive('df-5577fb69-82bd-4cb1-b8c1-74f4f39298b1')\"\n",
              "              title=\"Convert this dataframe to an interactive table.\"\n",
              "              style=\"display:none;\">\n",
              "        \n",
              "  <svg xmlns=\"http://www.w3.org/2000/svg\" height=\"24px\"viewBox=\"0 0 24 24\"\n",
              "       width=\"24px\">\n",
              "    <path d=\"M0 0h24v24H0V0z\" fill=\"none\"/>\n",
              "    <path d=\"M18.56 5.44l.94 2.06.94-2.06 2.06-.94-2.06-.94-.94-2.06-.94 2.06-2.06.94zm-11 1L8.5 8.5l.94-2.06 2.06-.94-2.06-.94L8.5 2.5l-.94 2.06-2.06.94zm10 10l.94 2.06.94-2.06 2.06-.94-2.06-.94-.94-2.06-.94 2.06-2.06.94z\"/><path d=\"M17.41 7.96l-1.37-1.37c-.4-.4-.92-.59-1.43-.59-.52 0-1.04.2-1.43.59L10.3 9.45l-7.72 7.72c-.78.78-.78 2.05 0 2.83L4 21.41c.39.39.9.59 1.41.59.51 0 1.02-.2 1.41-.59l7.78-7.78 2.81-2.81c.8-.78.8-2.07 0-2.86zM5.41 20L4 18.59l7.72-7.72 1.47 1.35L5.41 20z\"/>\n",
              "  </svg>\n",
              "      </button>\n",
              "      \n",
              "  <style>\n",
              "    .colab-df-container {\n",
              "      display:flex;\n",
              "      flex-wrap:wrap;\n",
              "      gap: 12px;\n",
              "    }\n",
              "\n",
              "    .colab-df-convert {\n",
              "      background-color: #E8F0FE;\n",
              "      border: none;\n",
              "      border-radius: 50%;\n",
              "      cursor: pointer;\n",
              "      display: none;\n",
              "      fill: #1967D2;\n",
              "      height: 32px;\n",
              "      padding: 0 0 0 0;\n",
              "      width: 32px;\n",
              "    }\n",
              "\n",
              "    .colab-df-convert:hover {\n",
              "      background-color: #E2EBFA;\n",
              "      box-shadow: 0px 1px 2px rgba(60, 64, 67, 0.3), 0px 1px 3px 1px rgba(60, 64, 67, 0.15);\n",
              "      fill: #174EA6;\n",
              "    }\n",
              "\n",
              "    [theme=dark] .colab-df-convert {\n",
              "      background-color: #3B4455;\n",
              "      fill: #D2E3FC;\n",
              "    }\n",
              "\n",
              "    [theme=dark] .colab-df-convert:hover {\n",
              "      background-color: #434B5C;\n",
              "      box-shadow: 0px 1px 3px 1px rgba(0, 0, 0, 0.15);\n",
              "      filter: drop-shadow(0px 1px 2px rgba(0, 0, 0, 0.3));\n",
              "      fill: #FFFFFF;\n",
              "    }\n",
              "  </style>\n",
              "\n",
              "      <script>\n",
              "        const buttonEl =\n",
              "          document.querySelector('#df-5577fb69-82bd-4cb1-b8c1-74f4f39298b1 button.colab-df-convert');\n",
              "        buttonEl.style.display =\n",
              "          google.colab.kernel.accessAllowed ? 'block' : 'none';\n",
              "\n",
              "        async function convertToInteractive(key) {\n",
              "          const element = document.querySelector('#df-5577fb69-82bd-4cb1-b8c1-74f4f39298b1');\n",
              "          const dataTable =\n",
              "            await google.colab.kernel.invokeFunction('convertToInteractive',\n",
              "                                                     [key], {});\n",
              "          if (!dataTable) return;\n",
              "\n",
              "          const docLinkHtml = 'Like what you see? Visit the ' +\n",
              "            '<a target=\"_blank\" href=https://colab.research.google.com/notebooks/data_table.ipynb>data table notebook</a>'\n",
              "            + ' to learn more about interactive tables.';\n",
              "          element.innerHTML = '';\n",
              "          dataTable['output_type'] = 'display_data';\n",
              "          await google.colab.output.renderOutput(dataTable, element);\n",
              "          const docLink = document.createElement('div');\n",
              "          docLink.innerHTML = docLinkHtml;\n",
              "          element.appendChild(docLink);\n",
              "        }\n",
              "      </script>\n",
              "    </div>\n",
              "  </div>\n",
              "  "
            ]
          },
          "metadata": {},
          "execution_count": 17
        }
      ]
    },
    {
      "cell_type": "code",
      "source": [
        "row = random.randint(0, len(stocker_bot))\n",
        "\n",
        "print(stocker_bot.iloc[row], stocker_bot.iloc[row]['text'])\n"
      ],
      "metadata": {
        "id": "m9hnlX9z-x1N",
        "outputId": "00fe987a-b3fc-4823-d8a3-94938b789b9f",
        "colab": {
          "base_uri": "https://localhost:8080/"
        }
      },
      "execution_count": 39,
      "outputs": [
        {
          "output_type": "stream",
          "name": "stdout",
          "text": [
            "id                                             1019668539085545500\n",
            "text             Downtick  $GGP 3312500 shares @ $20.38 [11:56:...\n",
            "timestamp                                2018-07-18 19:41:38+00:00\n",
            "source                                                   richcash8\n",
            "symbols                                                        GGP\n",
            "company_names                                             GGP Inc.\n",
            "url                                                            NaN\n",
            "verified                                                     False\n",
            "neg                                                            0.0\n",
            "neu                                                          0.784\n",
            "pos                                                          0.216\n",
            "compound                                                     0.296\n",
            "Name: 24990, dtype: object Downtick  $GGP 3312500 shares @ $20.38 [11:56:51]  Target 8 - 4.31 % dividend\n"
          ]
        }
      ]
    }
  ]
}